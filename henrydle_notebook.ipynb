{
 "cells": [
  {
   "cell_type": "code",
   "execution_count": 8,
   "metadata": {},
   "outputs": [],
   "source": [
    "from henrydle import henrydle_gui"
   ]
  },
  {
   "cell_type": "markdown",
   "metadata": {},
   "source": [
    "Let's run henrydle!"
   ]
  },
  {
   "cell_type": "code",
   "execution_count": 9,
   "metadata": {},
   "outputs": [
    {
     "ename": "SpotifyOauthError",
     "evalue": "No client_id. Pass it or set a SPOTIPY_CLIENT_ID environment variable.",
     "output_type": "error",
     "traceback": [
      "\u001b[0;31m---------------------------------------------------------------------------\u001b[0m",
      "\u001b[0;31mSpotifyOauthError\u001b[0m                         Traceback (most recent call last)",
      "Cell \u001b[0;32mIn [9], line 2\u001b[0m\n\u001b[1;32m      1\u001b[0m username\u001b[39m=\u001b[39m\u001b[39minput\u001b[39m(\u001b[39m\"\u001b[39m\u001b[39mPlease Enter Username\u001b[39m\u001b[39m\"\u001b[39m)\n\u001b[0;32m----> 2\u001b[0m henrydle \u001b[39m=\u001b[39m henrydle_gui(username\u001b[39m=\u001b[39musername) \u001b[39m#Sets up henrydle\u001b[39;00m\n\u001b[1;32m      3\u001b[0m henrydle()\n",
      "File \u001b[0;32m~/spotify_randomiserstuff/henrydle/henrydle_gui.py:5\u001b[0m, in \u001b[0;36mhenrydle_gui.__init__\u001b[0;34m(self, username)\u001b[0m\n\u001b[1;32m      4\u001b[0m \u001b[39mdef\u001b[39;00m \u001b[39m__init__\u001b[39m(\u001b[39mself\u001b[39m, username: \u001b[39mstr\u001b[39m) \u001b[39m-\u001b[39m\u001b[39m>\u001b[39m \u001b[39mNone\u001b[39;00m:\n\u001b[0;32m----> 5\u001b[0m     \u001b[39msuper\u001b[39;49m()\u001b[39m.\u001b[39;49m\u001b[39m__init__\u001b[39;49m(username)\n",
      "File \u001b[0;32m~/spotify_randomiserstuff/henrydle/henrydle_base.py:13\u001b[0m, in \u001b[0;36mhenrydle_base.__init__\u001b[0;34m(self, username)\u001b[0m\n\u001b[1;32m     12\u001b[0m \u001b[39mdef\u001b[39;00m \u001b[39m__init__\u001b[39m(\u001b[39mself\u001b[39m, username: \u001b[39mstr\u001b[39m) \u001b[39m-\u001b[39m\u001b[39m>\u001b[39m \u001b[39mNone\u001b[39;00m:\n\u001b[0;32m---> 13\u001b[0m     \u001b[39msuper\u001b[39;49m()\u001b[39m.\u001b[39;49m\u001b[39m__init__\u001b[39;49m(username) \u001b[39m#Login\u001b[39;00m\n\u001b[1;32m     14\u001b[0m     \u001b[39mprint\u001b[39m(\u001b[39m\"\u001b[39m\u001b[39mWelcome to Henrydle\u001b[39m\u001b[39m\"\u001b[39m)\n\u001b[1;32m     16\u001b[0m     randomtrack_id \u001b[39m=\u001b[39m \u001b[39mNone\u001b[39;00m\n",
      "File \u001b[0;32m~/spotify_randomiserstuff/BackEndBaseClasses/newPlaylistGenerator.py:16\u001b[0m, in \u001b[0;36mnewPlaylistGenerator.__init__\u001b[0;34m(self, username, verbose)\u001b[0m\n\u001b[1;32m     15\u001b[0m \u001b[39mdef\u001b[39;00m \u001b[39m__init__\u001b[39m(\u001b[39mself\u001b[39m, username, verbose\u001b[39m=\u001b[39m\u001b[39mFalse\u001b[39;00m):\n\u001b[0;32m---> 16\u001b[0m     \u001b[39msuper\u001b[39;49m()\u001b[39m.\u001b[39;49m\u001b[39m__init__\u001b[39;49m(username)\n\u001b[1;32m     17\u001b[0m     \u001b[39mself\u001b[39m\u001b[39m.\u001b[39m_verbose\u001b[39m=\u001b[39mverbose\n\u001b[1;32m     18\u001b[0m     \u001b[39mself\u001b[39m\u001b[39m.\u001b[39m_playlist\u001b[39m=\u001b[39m[]\n",
      "File \u001b[0;32m~/spotify_randomiserstuff/BackEndBaseClasses/spotipyLogin.py:14\u001b[0m, in \u001b[0;36mspotifyLogin.__init__\u001b[0;34m(self, username)\u001b[0m\n\u001b[1;32m     11\u001b[0m \u001b[39mself\u001b[39m\u001b[39m.\u001b[39m_username\u001b[39m=\u001b[39musername\n\u001b[1;32m     12\u001b[0m \u001b[39mself\u001b[39m\u001b[39m.\u001b[39m_scope\u001b[39m=\u001b[39m\u001b[39m\"\u001b[39m\u001b[39muser-modify-playback-state user-read-playback-position streaming user-top-read playlist-modify-public user-library-modify user-follow-read \u001b[39m\u001b[39m\\\u001b[39;00m\n\u001b[1;32m     13\u001b[0m \u001b[39muser-read-currently-playing user-library-read\u001b[39m\u001b[39m\"\u001b[39m\n\u001b[0;32m---> 14\u001b[0m \u001b[39mself\u001b[39m\u001b[39m.\u001b[39m_sp \u001b[39m=\u001b[39m spotipy\u001b[39m.\u001b[39mSpotify(auth_manager\u001b[39m=\u001b[39mSpotifyOAuth(scope\u001b[39m=\u001b[39;49m\u001b[39mself\u001b[39;49m\u001b[39m.\u001b[39;49m_scope))\n\u001b[1;32m     16\u001b[0m \u001b[39mself\u001b[39m\u001b[39m.\u001b[39m_token \u001b[39m=\u001b[39m util\u001b[39m.\u001b[39mprompt_for_user_token(username, \u001b[39mself\u001b[39m\u001b[39m.\u001b[39m_scope)\n\u001b[1;32m     18\u001b[0m \u001b[39mself\u001b[39m\u001b[39m.\u001b[39m_sp \u001b[39m=\u001b[39m spotipy\u001b[39m.\u001b[39mSpotify(\u001b[39mself\u001b[39m\u001b[39m.\u001b[39m_token)\n",
      "File \u001b[0;32m/opt/homebrew/lib/python3.9/site-packages/spotipy/oauth2.py:332\u001b[0m, in \u001b[0;36mSpotifyOAuth.__init__\u001b[0;34m(self, client_id, client_secret, redirect_uri, state, scope, cache_path, username, proxies, show_dialog, requests_session, requests_timeout, open_browser, cache_handler)\u001b[0m\n\u001b[1;32m    303\u001b[0m \u001b[39m\"\"\"\u001b[39;00m\n\u001b[1;32m    304\u001b[0m \u001b[39mCreates a SpotifyOAuth object\u001b[39;00m\n\u001b[1;32m    305\u001b[0m \n\u001b[0;32m   (...)\u001b[0m\n\u001b[1;32m    327\u001b[0m \u001b[39m                      (takes precedence over `cache_path` and `username`)\u001b[39;00m\n\u001b[1;32m    328\u001b[0m \u001b[39m\"\"\"\u001b[39;00m\n\u001b[1;32m    330\u001b[0m \u001b[39msuper\u001b[39m(SpotifyOAuth, \u001b[39mself\u001b[39m)\u001b[39m.\u001b[39m\u001b[39m__init__\u001b[39m(requests_session)\n\u001b[0;32m--> 332\u001b[0m \u001b[39mself\u001b[39;49m\u001b[39m.\u001b[39;49mclient_id \u001b[39m=\u001b[39m client_id\n\u001b[1;32m    333\u001b[0m \u001b[39mself\u001b[39m\u001b[39m.\u001b[39mclient_secret \u001b[39m=\u001b[39m client_secret\n\u001b[1;32m    334\u001b[0m \u001b[39mself\u001b[39m\u001b[39m.\u001b[39mredirect_uri \u001b[39m=\u001b[39m redirect_uri\n",
      "File \u001b[0;32m/opt/homebrew/lib/python3.9/site-packages/spotipy/oauth2.py:94\u001b[0m, in \u001b[0;36mSpotifyAuthBase.client_id\u001b[0;34m(self, val)\u001b[0m\n\u001b[1;32m     92\u001b[0m \u001b[39m@client_id\u001b[39m\u001b[39m.\u001b[39msetter\n\u001b[1;32m     93\u001b[0m \u001b[39mdef\u001b[39;00m \u001b[39mclient_id\u001b[39m(\u001b[39mself\u001b[39m, val):\n\u001b[0;32m---> 94\u001b[0m     \u001b[39mself\u001b[39m\u001b[39m.\u001b[39m_client_id \u001b[39m=\u001b[39m _ensure_value(val, \u001b[39m\"\u001b[39;49m\u001b[39mclient_id\u001b[39;49m\u001b[39m\"\u001b[39;49m)\n",
      "File \u001b[0;32m/opt/homebrew/lib/python3.9/site-packages/spotipy/oauth2.py:70\u001b[0m, in \u001b[0;36m_ensure_value\u001b[0;34m(value, env_key)\u001b[0m\n\u001b[1;32m     65\u001b[0m \u001b[39mif\u001b[39;00m _val \u001b[39mis\u001b[39;00m \u001b[39mNone\u001b[39;00m:\n\u001b[1;32m     66\u001b[0m     msg \u001b[39m=\u001b[39m \u001b[39m\"\u001b[39m\u001b[39mNo \u001b[39m\u001b[39m%s\u001b[39;00m\u001b[39m. Pass it or set a \u001b[39m\u001b[39m%s\u001b[39;00m\u001b[39m environment variable.\u001b[39m\u001b[39m\"\u001b[39m \u001b[39m%\u001b[39m (\n\u001b[1;32m     67\u001b[0m         env_key,\n\u001b[1;32m     68\u001b[0m         env_val,\n\u001b[1;32m     69\u001b[0m     )\n\u001b[0;32m---> 70\u001b[0m     \u001b[39mraise\u001b[39;00m SpotifyOauthError(msg)\n\u001b[1;32m     71\u001b[0m \u001b[39mreturn\u001b[39;00m _val\n",
      "\u001b[0;31mSpotifyOauthError\u001b[0m: No client_id. Pass it or set a SPOTIPY_CLIENT_ID environment variable."
     ]
    }
   ],
   "source": [
    "username=input(\"Please Enter Username\")\n",
    "henrydle = henrydle_gui(username=username) #Sets up henrydle\n",
    "henrydle()"
   ]
  },
  {
   "cell_type": "code",
   "execution_count": null,
   "metadata": {},
   "outputs": [],
   "source": []
  }
 ],
 "metadata": {
  "kernelspec": {
   "display_name": "Python 3.9.9 64-bit",
   "language": "python",
   "name": "python3"
  },
  "language_info": {
   "codemirror_mode": {
    "name": "ipython",
    "version": 3
   },
   "file_extension": ".py",
   "mimetype": "text/x-python",
   "name": "python",
   "nbconvert_exporter": "python",
   "pygments_lexer": "ipython3",
   "version": "3.9.9"
  },
  "orig_nbformat": 4,
  "vscode": {
   "interpreter": {
    "hash": "b0fa6594d8f4cbf19f97940f81e996739fb7646882a419484c72d19e05852a7e"
   }
  }
 },
 "nbformat": 4,
 "nbformat_minor": 2
}
